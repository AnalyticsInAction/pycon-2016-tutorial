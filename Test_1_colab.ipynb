{
  "nbformat": 4,
  "nbformat_minor": 0,
  "metadata": {
    "colab": {
      "name": "Test_1_colab",
      "version": "0.3.2",
      "provenance": [],
      "collapsed_sections": []
    },
    "kernelspec": {
      "name": "python3",
      "display_name": "Python 3"
    }
  },
  "cells": [
    {
      "cell_type": "markdown",
      "metadata": {
        "id": "view-in-github",
        "colab_type": "text"
      },
      "source": [
        "[View in Colaboratory](https://colab.research.google.com/github/AnalyticsInAction/pycon-2016-tutorial/blob/master/Test_1_colab.ipynb)"
      ]
    },
    {
      "metadata": {
        "id": "JIBggUrAb-k0",
        "colab_type": "code",
        "colab": {
          "base_uri": "https://localhost:8080/",
          "height": 34
        },
        "outputId": "79248b8b-cbf6-4ea4-ed87-fc50c18bd1a5"
      },
      "cell_type": "code",
      "source": [
        "from textblob import TextBlob\n",
        "wiki = TextBlob(\"Python is a high-level, general-purpose programming language.\")\n",
        "print(wiki.tags)"
      ],
      "execution_count": 1,
      "outputs": [
        {
          "output_type": "stream",
          "text": [
            "[('Python', 'NNP'), ('is', 'VBZ'), ('a', 'DT'), ('high-level', 'JJ'), ('general-purpose', 'JJ'), ('programming', 'NN'), ('language', 'NN')]\n"
          ],
          "name": "stdout"
        }
      ]
    }
  ]
}